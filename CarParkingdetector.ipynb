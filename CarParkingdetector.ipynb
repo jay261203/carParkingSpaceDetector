{
  "nbformat": 4,
  "nbformat_minor": 0,
  "metadata": {
    "colab": {
      "provenance": [],
      "gpuType": "T4"
    },
    "kernelspec": {
      "name": "python3",
      "display_name": "Python 3"
    },
    "language_info": {
      "name": "python"
    },
    "accelerator": "GPU"
  },
  "cells": [
    {
      "cell_type": "markdown",
      "source": [
        "Importing libraries"
      ],
      "metadata": {
        "id": "gAS5sQT6nQVD"
      }
    },
    {
      "cell_type": "code",
      "execution_count": null,
      "metadata": {
        "id": "sPCGKK0YnB4U"
      },
      "outputs": [],
      "source": [
        "import numpy as np\n",
        "import os\n",
        "from tensorflow.keras import applications\n",
        "from tensorflow.keras.preprocessing.image import ImageDataGenerator\n",
        "from tensorflow.keras import optimizers\n",
        "from tensorflow.keras.models import Sequential, Model\n",
        "from tensorflow.keras.layers import Dropout, Flatten, Dense, GlobalAveragePooling2D"
      ]
    },
    {
      "cell_type": "code",
      "source": [
        "cwd=os.getcwd()\n",
        "files_train=0\n",
        "files_val=0\n",
        "folder='sample_data/train_data/train'\n",
        "\n",
        "for sub_folder in os.listdir(folder):\n",
        "  if sub_folder != '.ipynb_checkpoints':\n",
        "    path, dir, files = next(os.walk(os.path.join(folder,sub_folder)))\n",
        "    files_train += len(files)\n",
        "folder='sample_data/train_data/test'\n",
        "\n",
        "for sub_folder in os.listdir(folder):\n",
        "  if sub_folder != '.ipynb_checkpoints':\n",
        "    path, dir, files = next(os.walk(os.path.join(folder,sub_folder)))\n",
        "    files_val += len(files)\n",
        "print(files_train)\n",
        "print(files_val)"
      ],
      "metadata": {
        "colab": {
          "base_uri": "https://localhost:8080/"
        },
        "id": "6eMlThyPpx-G",
        "outputId": "d0a2a832-3706-477c-c450-594b53cd1309"
      },
      "execution_count": 71,
      "outputs": [
        {
          "output_type": "stream",
          "name": "stdout",
          "text": [
            "432\n",
            "164\n"
          ]
        }
      ]
    },
    {
      "cell_type": "code",
      "source": [
        "img_width,img_height=48,48\n",
        "train_data_dir='sample_data/train_data/train'\n",
        "validation_data_dir='sample_data/train_data/test'\n",
        "nb_train_samples=files_train\n",
        "nb_validation_samples=files_val\n",
        "batch_size=32\n",
        "epochs=15\n",
        "nb_classes=2"
      ],
      "metadata": {
        "id": "uoJJQ79nIXBH"
      },
      "execution_count": 72,
      "outputs": []
    },
    {
      "cell_type": "code",
      "source": [
        "model=applications.VGG16(weights='imagenet',include_top=False,input_shape=(img_width,img_height,3))\n"
      ],
      "metadata": {
        "id": "QoNdO5rjLt-p"
      },
      "execution_count": 73,
      "outputs": []
    },
    {
      "cell_type": "code",
      "source": [
        "model.layers"
      ],
      "metadata": {
        "colab": {
          "base_uri": "https://localhost:8080/"
        },
        "id": "KBKVvZciMYgE",
        "outputId": "2c80057b-2ff9-4872-fa3a-1123cb2633ee"
      },
      "execution_count": null,
      "outputs": [
        {
          "output_type": "execute_result",
          "data": {
            "text/plain": [
              "[<InputLayer name=input_layer_1, built=True>,\n",
              " <Conv2D name=block1_conv1, built=True>,\n",
              " <Conv2D name=block1_conv2, built=True>,\n",
              " <MaxPooling2D name=block1_pool, built=True>,\n",
              " <Conv2D name=block2_conv1, built=True>,\n",
              " <Conv2D name=block2_conv2, built=True>,\n",
              " <MaxPooling2D name=block2_pool, built=True>,\n",
              " <Conv2D name=block3_conv1, built=True>,\n",
              " <Conv2D name=block3_conv2, built=True>,\n",
              " <Conv2D name=block3_conv3, built=True>,\n",
              " <MaxPooling2D name=block3_pool, built=True>,\n",
              " <Conv2D name=block4_conv1, built=True>,\n",
              " <Conv2D name=block4_conv2, built=True>,\n",
              " <Conv2D name=block4_conv3, built=True>,\n",
              " <MaxPooling2D name=block4_pool, built=True>,\n",
              " <Conv2D name=block5_conv1, built=True>,\n",
              " <Conv2D name=block5_conv2, built=True>,\n",
              " <Conv2D name=block5_conv3, built=True>,\n",
              " <MaxPooling2D name=block5_pool, built=True>]"
            ]
          },
          "metadata": {},
          "execution_count": 34
        }
      ]
    },
    {
      "cell_type": "code",
      "source": [
        "for layer in model.layers[:10]:\n",
        "    layer.trainable=False"
      ],
      "metadata": {
        "id": "k-J0ZzlkM89G"
      },
      "execution_count": 74,
      "outputs": []
    },
    {
      "cell_type": "code",
      "source": [
        "x=model.output\n",
        "x=Flatten()(x)\n",
        "predictions=Dense(nb_classes,activation='softmax')(x)\n",
        "model_final = Model(inputs=model.input,outputs=predictions)\n",
        "\n",
        "model_final.compile(loss='categorical_crossentropy'\n",
        " ,optimizer=optimizers.SGD(learning_rate=0.0001,momentum=0.9),metrics=['accuracy'])"
      ],
      "metadata": {
        "id": "0E5tdzgDNHxH"
      },
      "execution_count": 75,
      "outputs": []
    },
    {
      "cell_type": "code",
      "source": [
        "train_datagen =ImageDataGenerator(rescale=1.0/255,horizontal_flip=True,fill_mode='nearest',\n",
        "                   zoom_range=0.1, height_shift_range=0.1, width_shift_range=0.1,\n",
        "                   rotation_range=5)\n",
        "test_datagen =ImageDataGenerator(rescale=1.0/255)\n",
        "train_generator = train_datagen.flow_from_directory(train_data_dir,target_size=(img_height,img_width),\n",
        "                                                    batch_size=batch_size,class_mode='categorical',classes=['empty', 'occupied'])\n",
        "validation_generator = test_datagen.flow_from_directory(validation_data_dir,target_size=(img_height,img_width),\n",
        "                                 batch_size=batch_size,class_mode='categorical', classes=['empty', 'occupied'])"
      ],
      "metadata": {
        "colab": {
          "base_uri": "https://localhost:8080/"
        },
        "id": "yuVrBT2KPmSq",
        "outputId": "f97ea014-93d8-4263-cb1d-c5fadc2787b4"
      },
      "execution_count": 77,
      "outputs": [
        {
          "output_type": "stream",
          "name": "stdout",
          "text": [
            "Found 766 images belonging to 2 classes.\n",
            "Found 164 images belonging to 2 classes.\n"
          ]
        }
      ]
    },
    {
      "cell_type": "code",
      "source": [
        "train_generator.class_indices"
      ],
      "metadata": {
        "colab": {
          "base_uri": "https://localhost:8080/"
        },
        "id": "XaIxJGMHdZ20",
        "outputId": "e387abb3-7ff4-4662-8cbc-cb309996ec8f"
      },
      "execution_count": 78,
      "outputs": [
        {
          "output_type": "execute_result",
          "data": {
            "text/plain": [
              "{'empty': 0, 'occupied': 1}"
            ]
          },
          "metadata": {},
          "execution_count": 78
        }
      ]
    },
    {
      "cell_type": "code",
      "source": [
        "history=model_final.fit(train_generator,steps_per_epoch=nb_train_samples//batch_size,\n",
        "                validation_steps=nb_validation_samples//batch_size,\n",
        "                epochs=epochs,validation_data=validation_generator)"
      ],
      "metadata": {
        "colab": {
          "base_uri": "https://localhost:8080/"
        },
        "id": "5yenwoyjSSgZ",
        "outputId": "3e3b1845-f08b-426c-9417-8be6ff4bddff"
      },
      "execution_count": 79,
      "outputs": [
        {
          "output_type": "stream",
          "name": "stdout",
          "text": [
            "Epoch 1/15\n"
          ]
        },
        {
          "output_type": "stream",
          "name": "stderr",
          "text": [
            "/usr/local/lib/python3.10/dist-packages/keras/src/trainers/data_adapters/py_dataset_adapter.py:122: UserWarning: Your `PyDataset` class should call `super().__init__(**kwargs)` in its constructor. `**kwargs` can include `workers`, `use_multiprocessing`, `max_queue_size`. Do not pass these arguments to `fit()`, as they will be ignored.\n",
            "  self._warn_if_super_not_called()\n"
          ]
        },
        {
          "output_type": "stream",
          "name": "stdout",
          "text": [
            "\u001b[1m13/13\u001b[0m \u001b[32m━━━━━━━━━━━━━━━━━━━━\u001b[0m\u001b[37m\u001b[0m \u001b[1m5s\u001b[0m 226ms/step - accuracy: 0.8804 - loss: 0.3271 - val_accuracy: 0.7688 - val_loss: 0.5221\n",
            "Epoch 2/15\n",
            "\u001b[1m11/13\u001b[0m \u001b[32m━━━━━━━━━━━━━━━━\u001b[0m\u001b[37m━━━━\u001b[0m \u001b[1m0s\u001b[0m 27ms/step - accuracy: 0.8968 - loss: 0.2693"
          ]
        },
        {
          "output_type": "stream",
          "name": "stderr",
          "text": [
            "/usr/lib/python3.10/contextlib.py:153: UserWarning: Your input ran out of data; interrupting training. Make sure that your dataset or generator can generate at least `steps_per_epoch * epochs` batches. You may need to use the `.repeat()` function when building your dataset.\n",
            "  self.gen.throw(typ, value, traceback)\n"
          ]
        },
        {
          "output_type": "stream",
          "name": "stdout",
          "text": [
            "\b\b\b\b\b\b\b\b\b\b\b\b\b\b\b\b\b\b\b\b\b\b\b\b\b\b\b\b\b\b\b\b\b\b\b\b\b\b\b\b\b\b\b\b\b\b\b\b\b\b\b\b\b\b\b\b\b\b\b\b\b\b\b\b\b\b\b\b\b\b\b\b\b\r\u001b[1m13/13\u001b[0m \u001b[32m━━━━━━━━━━━━━━━━━━━━\u001b[0m\u001b[37m\u001b[0m \u001b[1m1s\u001b[0m 89ms/step - accuracy: 0.8934 - loss: 0.2714 - val_accuracy: 0.7500 - val_loss: 0.4360\n",
            "Epoch 3/15\n",
            "\u001b[1m13/13\u001b[0m \u001b[32m━━━━━━━━━━━━━━━━━━━━\u001b[0m\u001b[37m\u001b[0m \u001b[1m2s\u001b[0m 121ms/step - accuracy: 0.8914 - loss: 0.2286 - val_accuracy: 0.8062 - val_loss: 0.3650\n",
            "Epoch 4/15\n",
            "\u001b[1m13/13\u001b[0m \u001b[32m━━━━━━━━━━━━━━━━━━━━\u001b[0m\u001b[37m\u001b[0m \u001b[1m1s\u001b[0m 41ms/step - accuracy: 0.9192 - loss: 0.2036 - val_accuracy: 1.0000 - val_loss: 0.0101\n",
            "Epoch 5/15\n",
            "\u001b[1m13/13\u001b[0m \u001b[32m━━━━━━━━━━━━━━━━━━━━\u001b[0m\u001b[37m\u001b[0m \u001b[1m2s\u001b[0m 61ms/step - accuracy: 0.9692 - loss: 0.1337 - val_accuracy: 0.8875 - val_loss: 0.3004\n",
            "Epoch 6/15\n",
            "\u001b[1m13/13\u001b[0m \u001b[32m━━━━━━━━━━━━━━━━━━━━\u001b[0m\u001b[37m\u001b[0m \u001b[1m0s\u001b[0m 38ms/step - accuracy: 0.9726 - loss: 0.1408 - val_accuracy: 0.7500 - val_loss: 0.4831\n",
            "Epoch 7/15\n",
            "\u001b[1m13/13\u001b[0m \u001b[32m━━━━━━━━━━━━━━━━━━━━\u001b[0m\u001b[37m\u001b[0m \u001b[1m1s\u001b[0m 62ms/step - accuracy: 0.9570 - loss: 0.1145 - val_accuracy: 0.8938 - val_loss: 0.2695\n",
            "Epoch 8/15\n",
            "\u001b[1m13/13\u001b[0m \u001b[32m━━━━━━━━━━━━━━━━━━━━\u001b[0m\u001b[37m\u001b[0m \u001b[1m0s\u001b[0m 39ms/step - accuracy: 0.9787 - loss: 0.0877 - val_accuracy: 0.7500 - val_loss: 0.2058\n",
            "Epoch 9/15\n",
            "\u001b[1m13/13\u001b[0m \u001b[32m━━━━━━━━━━━━━━━━━━━━\u001b[0m\u001b[37m\u001b[0m \u001b[1m2s\u001b[0m 62ms/step - accuracy: 0.9819 - loss: 0.0694 - val_accuracy: 0.8938 - val_loss: 0.2583\n",
            "Epoch 10/15\n",
            "\u001b[1m13/13\u001b[0m \u001b[32m━━━━━━━━━━━━━━━━━━━━\u001b[0m\u001b[37m\u001b[0m \u001b[1m0s\u001b[0m 27ms/step - accuracy: 0.9736 - loss: 0.0773 - val_accuracy: 1.0000 - val_loss: 0.0338\n",
            "Epoch 11/15\n",
            "\u001b[1m13/13\u001b[0m \u001b[32m━━━━━━━━━━━━━━━━━━━━\u001b[0m\u001b[37m\u001b[0m \u001b[1m2s\u001b[0m 61ms/step - accuracy: 0.9853 - loss: 0.0745 - val_accuracy: 0.9062 - val_loss: 0.2343\n",
            "Epoch 12/15\n",
            "\u001b[1m13/13\u001b[0m \u001b[32m━━━━━━━━━━━━━━━━━━━━\u001b[0m\u001b[37m\u001b[0m \u001b[1m0s\u001b[0m 39ms/step - accuracy: 0.9923 - loss: 0.0501 - val_accuracy: 0.7500 - val_loss: 0.9645\n",
            "Epoch 13/15\n",
            "\u001b[1m13/13\u001b[0m \u001b[32m━━━━━━━━━━━━━━━━━━━━\u001b[0m\u001b[37m\u001b[0m \u001b[1m2s\u001b[0m 60ms/step - accuracy: 0.9868 - loss: 0.0515 - val_accuracy: 0.9187 - val_loss: 0.2263\n",
            "Epoch 14/15\n",
            "\u001b[1m13/13\u001b[0m \u001b[32m━━━━━━━━━━━━━━━━━━━━\u001b[0m\u001b[37m\u001b[0m \u001b[1m0s\u001b[0m 31ms/step - accuracy: 0.9802 - loss: 0.0628 - val_accuracy: 1.0000 - val_loss: 0.0569\n",
            "Epoch 15/15\n",
            "\u001b[1m13/13\u001b[0m \u001b[32m━━━━━━━━━━━━━━━━━━━━\u001b[0m\u001b[37m\u001b[0m \u001b[1m2s\u001b[0m 67ms/step - accuracy: 0.9814 - loss: 0.0582 - val_accuracy: 0.9187 - val_loss: 0.2171\n"
          ]
        }
      ]
    },
    {
      "cell_type": "code",
      "source": [
        "test_loss, test_accuracy = model_final.evaluate(validation_generator, steps=nb_validation_samples // batch_size)\n",
        "print('Test accuracy:', test_accuracy)"
      ],
      "metadata": {
        "colab": {
          "base_uri": "https://localhost:8080/"
        },
        "id": "RZAmcxaLYK6P",
        "outputId": "855cf570-5e49-4dba-b360-1316c01d150f"
      },
      "execution_count": 80,
      "outputs": [
        {
          "output_type": "stream",
          "name": "stdout",
          "text": [
            "\u001b[1m5/5\u001b[0m \u001b[32m━━━━━━━━━━━━━━━━━━━━\u001b[0m\u001b[37m\u001b[0m \u001b[1m0s\u001b[0m 18ms/step - accuracy: 0.9256 - loss: 0.2002\n",
            "Test accuracy: 0.918749988079071\n"
          ]
        }
      ]
    },
    {
      "cell_type": "code",
      "source": [
        "import matplotlib.pyplot as plt\n",
        "plt.plot(history.history['loss'])\n",
        "plt.plot(history.history['val_accuracy'])\n",
        "plt.title('model accuracy')\n",
        "plt.ylabel('loss')\n",
        "plt.xlabel('epoch')\n",
        "plt.legend(['train', 'test'], loc='upper left')\n",
        "plt.show()"
      ],
      "metadata": {
        "colab": {
          "base_uri": "https://localhost:8080/",
          "height": 472
        },
        "id": "jPw8u-VhVHTu",
        "outputId": "b0b43fd7-af86-4e22-c9cf-bae7bffa87ff"
      },
      "execution_count": 81,
      "outputs": [
        {
          "output_type": "display_data",
          "data": {
            "text/plain": [
              "<Figure size 640x480 with 1 Axes>"
            ],
            "image/png": "[encoded data removed]"
          },
          "metadata": {}
        }
      ]
    },
    {
      "cell_type": "code",
      "source": [
        "model_final.save('model_final.h5')"
      ],
      "metadata": {
        "colab": {
          "base_uri": "https://localhost:8080/"
        },
        "id": "uHlmwEJ0Yv08",
        "outputId": "b4ffeb97-4251-432b-e631-efd29d968217"
      },
      "execution_count": 82,
      "outputs": [
        {
          "output_type": "stream",
          "name": "stderr",
          "text": [
            "WARNING:absl:You are saving your model as an HDF5 file via `model.save()` or `keras.saving.save_model(model)`. This file format is considered legacy. We recommend using instead the native Keras format, e.g. `model.save('my_model.keras')` or `keras.saving.save_model(model, 'my_model.keras')`. \n"
          ]
        }
      ]
    },
    {
      "cell_type": "code",
      "source": [
        "class_dictionary={}\n",
        "class_dictionary[0]='no_car'\n",
        "class_dictionary[1]='car'"
      ],
      "metadata": {
        "id": "SlOpf7N4ZI3D"
      },
      "execution_count": 91,
      "outputs": []
    },
    {
      "cell_type": "code",
      "source": [
        "class_dictionary"
      ],
      "metadata": {
        "colab": {
          "base_uri": "https://localhost:8080/"
        },
        "id": "eUjRw7BvZbAU",
        "outputId": "2a4534c2-c64a-4019-ce4a-9c79d518b1b6"
      },
      "execution_count": 85,
      "outputs": [
        {
          "output_type": "execute_result",
          "data": {
            "text/plain": [
              "{0: 'no car', 1: 'car'}"
            ]
          },
          "metadata": {},
          "execution_count": 85
        }
      ]
    },
    {
      "cell_type": "code",
      "source": [
        "import cv2\n",
        "\n",
        "def makepredictions(image):\n",
        "    image=cv2.imread(image)\n",
        "    image=cv2.resize(image,(48,48))\n",
        "    img = image/255\n",
        "# (1, 48, 48, 3) -> 4D Tensor\n",
        "    img = np.expand_dims(img, axis = 0)\n",
        "\n",
        "    class_predicted = model_final.predict(img)\n",
        "    intId = np.argmax(class_predicted[0])\n",
        "    label = class_dictionary[intId]\n",
        "    return label\n"
      ],
      "metadata": {
        "id": "btVWrgMHZtag"
      },
      "execution_count": 92,
      "outputs": []
    },
    {
      "cell_type": "code",
      "source": [
        "makepredictions(\"sample_data/nocar.jpg\")"
      ],
      "metadata": {
        "colab": {
          "base_uri": "https://localhost:8080/",
          "height": 53
        },
        "id": "902tGirHaqKE",
        "outputId": "e857584f-6185-4e8a-d13d-4559f8ed8e5a"
      },
      "execution_count": 99,
      "outputs": [
        {
          "output_type": "stream",
          "name": "stdout",
          "text": [
            "\u001b[1m1/1\u001b[0m \u001b[32m━━━━━━━━━━━━━━━━━━━━\u001b[0m\u001b[37m\u001b[0m \u001b[1m0s\u001b[0m 17ms/step\n"
          ]
        },
        {
          "output_type": "execute_result",
          "data": {
            "text/plain": [
              "'no_car'"
            ],
            "application/vnd.google.colaboratory.intrinsic+json": {
              "type": "string"
            }
          },
          "metadata": {},
          "execution_count": 99
        }
      ]
    },
    {
      "cell_type": "code",
      "source": [
        "model_final.save('model_final.h5')"
      ],
      "metadata": {
        "colab": {
          "base_uri": "https://localhost:8080/"
        },
        "id": "VZN136ihhcYl",
        "outputId": "98bdc58f-1d0b-4940-b82b-90238db5f48e"
      },
      "execution_count": 101,
      "outputs": [
        {
          "output_type": "stream",
          "name": "stderr",
          "text": [
            "WARNING:absl:You are saving your model as an HDF5 file via `model.save()` or `keras.saving.save_model(model)`. This file format is considered legacy. We recommend using instead the native Keras format, e.g. `model.save('my_model.keras')` or `keras.saving.save_model(model, 'my_model.keras')`. \n"
          ]
        }
      ]
    }
  ]
}